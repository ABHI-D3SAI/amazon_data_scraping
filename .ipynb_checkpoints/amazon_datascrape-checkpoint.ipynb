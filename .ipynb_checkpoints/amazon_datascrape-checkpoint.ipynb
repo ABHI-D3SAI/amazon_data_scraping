{
 "cells": [
  {
   "cell_type": "code",
   "execution_count": 1,
   "id": "cbb8f5f1",
   "metadata": {},
   "outputs": [],
   "source": [
    "import csv\n",
    "from selenium import webdriver\n",
    "from selenium.webdriver.chrome.options import Options\n",
    "import time \n",
    "import pandas as pd\n",
    "from selenium.common.exceptions import NoSuchElementException, ElementClickInterceptedException"
   ]
  },
  {
   "cell_type": "code",
   "execution_count": 2,
   "id": "77baf2d9",
   "metadata": {},
   "outputs": [],
   "source": [
    "from bs4 import BeautifulSoup"
   ]
  },
  {
   "cell_type": "code",
   "execution_count": 3,
   "id": "42102a88",
   "metadata": {},
   "outputs": [],
   "source": [
    "options = webdriver.ChromeOptions()\n",
    "driver = webdriver.Chrome(executable_path='D:/projects/jupyter/chromedriver',options = options)\n",
    "    \n",
    "url = 'https://www.amazon.in/?ie=UTF8&ext_vrnc=hi&tag=googhydrabk-21&ascsubtag=_k_Cj0KCQjwl_SHBhCQARIsAFIFRVXKb5kECR-kQfYn1nZ1l_ksC8GbtoeS0o-RldrRicpmmW75r31YaBAaAt2vEALw_wcB_k_&ext_vrnc=hi&gclid=Cj0KCQjwl_SHBhCQARIsAFIFRVXKb5kECR-kQfYn1nZ1l_ksC8GbtoeS0o-RldrRicpmmW75r31YaBAaAt2vEALw_wcB&ref_=nav_signin&'\n",
    "driver.get(url)\n",
    "def get_url(product_type):\n",
    "        \n",
    "    '''generating the required url'''\n",
    "    temp = 'https://www.amazon.in/s?k={}&ref=nb_sb_noss_2'\n",
    "    product_type = product_type.replace(' ','+')\n",
    "    return temp.format(product_type)\n",
    "    "
   ]
  },
  {
   "cell_type": "code",
   "execution_count": 4,
   "id": "89627032",
   "metadata": {},
   "outputs": [
    {
     "name": "stdout",
     "output_type": "stream",
     "text": [
      "https://www.amazon.in/s?k=smrtphones&ref=nb_sb_noss_2\n"
     ]
    }
   ],
   "source": [
    "url = get_url('smrtphones')\n",
    "print(url)"
   ]
  },
  {
   "cell_type": "code",
   "execution_count": 5,
   "id": "5055a2bf",
   "metadata": {},
   "outputs": [],
   "source": [
    "driver.get(url)"
   ]
  },
  {
   "cell_type": "code",
   "execution_count": 6,
   "id": "55b15cc2",
   "metadata": {
    "scrolled": true
   },
   "outputs": [],
   "source": [
    "soup = BeautifulSoup(driver.page_source, 'html.parser')"
   ]
  },
  {
   "cell_type": "code",
   "execution_count": 7,
   "id": "ed7ccee1",
   "metadata": {},
   "outputs": [],
   "source": [
    "results = soup.find_all(\"div\", {\"data-component-type\":\"s-search-result\"})"
   ]
  },
  {
   "cell_type": "code",
   "execution_count": 8,
   "id": "a4deb978",
   "metadata": {},
   "outputs": [
    {
     "data": {
      "text/plain": [
       "21"
      ]
     },
     "execution_count": 8,
     "metadata": {},
     "output_type": "execute_result"
    }
   ],
   "source": [
    "len(results)"
   ]
  },
  {
   "cell_type": "code",
   "execution_count": null,
   "id": "ff7ce088",
   "metadata": {},
   "outputs": [],
   "source": []
  },
  {
   "cell_type": "code",
   "execution_count": 9,
   "id": "f6526c82",
   "metadata": {},
   "outputs": [],
   "source": [
    "item = results[0]\n",
    "atag = item.h2.a\n",
    "decription = atag.text.strip()\n",
    "url = 'https://www.amazon.com'+ atag.get('href')"
   ]
  },
  {
   "cell_type": "code",
   "execution_count": 10,
   "id": "6b3b7873",
   "metadata": {},
   "outputs": [],
   "source": [
    "price_parent = item.find('span', 'a-price')\n",
    "price = price_parent.find('span', 'a-offscreen').text"
   ]
  },
  {
   "cell_type": "code",
   "execution_count": 11,
   "id": "d265ace8",
   "metadata": {},
   "outputs": [],
   "source": [
    "rating = item.i.text"
   ]
  },
  {
   "cell_type": "code",
   "execution_count": null,
   "id": "b71ab93a",
   "metadata": {},
   "outputs": [],
   "source": []
  },
  {
   "cell_type": "code",
   "execution_count": 22,
   "id": "0ca6781c",
   "metadata": {},
   "outputs": [],
   "source": [
    "def record(item):\n",
    "    atag = item.h2.a\n",
    "    description = atag.text.strip()\n",
    "    url = 'https://www.amazon.com'+ atag.get('href')\n",
    "    try:\n",
    "        price_parent = item.find('span', 'a-price')\n",
    "        price = price_parent.find('span', 'a-offscreen').text\n",
    "    except AttributeError:\n",
    "        return\n",
    "    try:\n",
    "        rating = item.i.text\n",
    "    except AttributeError:\n",
    "        rating = ''\n",
    "    result = [description, url, price, rating]\n",
    "    return result"
   ]
  },
  {
   "cell_type": "code",
   "execution_count": 23,
   "id": "57169f9d",
   "metadata": {},
   "outputs": [],
   "source": [
    "record_list = []\n",
    "results = soup.find_all('div', {'data-component-type': 's-search-result'})\n",
    "\n",
    "for i in results:\n",
    "    record_list.append(record(item))"
   ]
  },
  {
   "cell_type": "markdown",
   "id": "332d1bae",
   "metadata": {},
   "source": [
    "##Going to the next page "
   ]
  },
  {
   "cell_type": "code",
   "execution_count": 24,
   "id": "c1614f5f",
   "metadata": {},
   "outputs": [],
   "source": [
    "def get_url(product_type):\n",
    "        \n",
    "    '''generating the required url'''\n",
    "    temp = 'https://www.amazon.in/s?k={}&ref=nb_sb_noss_2'\n",
    "    product_type = product_type.replace(' ','+')\n",
    "    \n",
    "    url = temp.format(product_type)\n",
    "    \n",
    "    url += '&page{}'\n",
    "    \n",
    "    return url"
   ]
  },
  {
   "cell_type": "code",
   "execution_count": 50,
   "id": "d6f7b8e1",
   "metadata": {},
   "outputs": [],
   "source": [
    "def get_url(product_type):\n",
    "        \n",
    "    '''generating the required url'''\n",
    "    temp = 'https://www.amazon.in/s?k={}&ref=sr_pg_1'\n",
    "    product_type = product_type.replace(' ','+')\n",
    "    \n",
    "    url = temp.format(product_type)\n",
    "    \n",
    "    url += '&page{}'\n",
    "    \n",
    "    return url\n",
    "\n",
    "def records(item):\n",
    "    atag = item.h2.a\n",
    "    description = atag.text.strip()\n",
    "    url = 'https://www.amazon.com'+ atag.get('href')\n",
    "    try:\n",
    "        price_parent = item.find('span', 'a-price')\n",
    "        price = price_parent.find('span', 'a-offscreen').text\n",
    "    except AttributeError:\n",
    "        return\n",
    "    try:\n",
    "        rating = item.i.text\n",
    "    except AttributeError:\n",
    "        rating = ''\n",
    "    result = (description, price, rating, url)\n",
    "    return result \n",
    "\n",
    "\n",
    "def main(product_type):\n",
    "    options = webdriver.ChromeOptions()\n",
    "    driver = webdriver.Chrome(executable_path='D:/projects/jupyter/chromedriver',options = options)\n",
    "    \n",
    "    record_list = []\n",
    "    url = get_url(product_type)\n",
    "    \n",
    "    for page in range(1,21):\n",
    "        driver.get(url.format(page))\n",
    "        soup = BeautifulSoup(driver.page_source, 'html.parser')\n",
    "        results = soup.find_all('div', {'data-component-type': 's-search-result'})\n",
    "        for item in results:\n",
    "            record = records(item)\n",
    "            if record:\n",
    "                record_list.append(record)\n",
    "                \n",
    "    driver.close()\n",
    "    \n",
    "    with open('{}.csv'.format(product_type), 'w', newline='', encoding = 'utf-8') as f:\n",
    "        writer = csv.writer(f)\n",
    "        writer.writerow(['Description', 'Price', 'Rating', 'Url'])\n",
    "        writer.writerows(record_list)"
   ]
  },
  {
   "cell_type": "code",
   "execution_count": 51,
   "id": "2e71e3cb",
   "metadata": {},
   "outputs": [],
   "source": [
    "main('smartphone')"
   ]
  },
  {
   "cell_type": "code",
   "execution_count": 52,
   "id": "30c8600c",
   "metadata": {},
   "outputs": [
    {
     "data": {
      "text/html": [
       "<div>\n",
       "<style scoped>\n",
       "    .dataframe tbody tr th:only-of-type {\n",
       "        vertical-align: middle;\n",
       "    }\n",
       "\n",
       "    .dataframe tbody tr th {\n",
       "        vertical-align: top;\n",
       "    }\n",
       "\n",
       "    .dataframe thead th {\n",
       "        text-align: right;\n",
       "    }\n",
       "</style>\n",
       "<table border=\"1\" class=\"dataframe\">\n",
       "  <thead>\n",
       "    <tr style=\"text-align: right;\">\n",
       "      <th></th>\n",
       "      <th>Description</th>\n",
       "      <th>Price</th>\n",
       "      <th>Rating</th>\n",
       "      <th>Url</th>\n",
       "    </tr>\n",
       "  </thead>\n",
       "  <tbody>\n",
       "    <tr>\n",
       "      <th>0</th>\n",
       "      <td>Mi 11X Pro 5G (Lunar White, 8GB RAM, 128GB Sto...</td>\n",
       "      <td>₹39,999</td>\n",
       "      <td>3.9 out of 5 stars</td>\n",
       "      <td>https://www.amazon.com/gp/slredirect/picassoRe...</td>\n",
       "    </tr>\n",
       "    <tr>\n",
       "      <th>1</th>\n",
       "      <td>Samsung Galaxy M32 (Light Blue, 4GB RAM, 64GB ...</td>\n",
       "      <td>₹14,999</td>\n",
       "      <td>4.2 out of 5 stars</td>\n",
       "      <td>https://www.amazon.com/gp/slredirect/picassoRe...</td>\n",
       "    </tr>\n",
       "    <tr>\n",
       "      <th>2</th>\n",
       "      <td>Redmi 9A (Nature Green, 2GB RAM, 32GB Storage)...</td>\n",
       "      <td>₹6,999</td>\n",
       "      <td>4.2 out of 5 stars</td>\n",
       "      <td>https://www.amazon.com/Redmi-9A-2GB-32GB-Stora...</td>\n",
       "    </tr>\n",
       "    <tr>\n",
       "      <th>3</th>\n",
       "      <td>Redmi 9 (Sky Blue, 4GB RAM, 64GB Storage)| 500...</td>\n",
       "      <td>₹8,999</td>\n",
       "      <td>4.2 out of 5 stars</td>\n",
       "      <td>https://www.amazon.com/Redmi-Sky-Blue-64GB-Sto...</td>\n",
       "    </tr>\n",
       "    <tr>\n",
       "      <th>4</th>\n",
       "      <td>Oppo A31 (Fantasy White, 6GB RAM, 128GB Storag...</td>\n",
       "      <td>₹12,490</td>\n",
       "      <td>4.2 out of 5 stars</td>\n",
       "      <td>https://www.amazon.com/Oppo-Fantasy-Storage-Ad...</td>\n",
       "    </tr>\n",
       "    <tr>\n",
       "      <th>...</th>\n",
       "      <td>...</td>\n",
       "      <td>...</td>\n",
       "      <td>...</td>\n",
       "      <td>...</td>\n",
       "    </tr>\n",
       "    <tr>\n",
       "      <th>435</th>\n",
       "      <td>(Renewed) Samsung Galaxy M12 (Black,4GB RAM, 6...</td>\n",
       "      <td>₹10,499</td>\n",
       "      <td>5.0 out of 5 stars</td>\n",
       "      <td>https://www.amazon.com/Renewed-Samsung-Galaxy-...</td>\n",
       "    </tr>\n",
       "    <tr>\n",
       "      <th>436</th>\n",
       "      <td>(Renewed) Samsung Galaxy M12 (Blue,4GB RAM, 64...</td>\n",
       "      <td>₹10,499</td>\n",
       "      <td>2.5 out of 5 stars</td>\n",
       "      <td>https://www.amazon.com/Renewed-Samsung-Galaxy-...</td>\n",
       "    </tr>\n",
       "    <tr>\n",
       "      <th>437</th>\n",
       "      <td>realme narzo 30 (Racing Blue, 4GB RAM, 64GB St...</td>\n",
       "      <td>₹12,499</td>\n",
       "      <td>2.8 out of 5 stars</td>\n",
       "      <td>https://www.amazon.com/realme-Racing-Storage-A...</td>\n",
       "    </tr>\n",
       "    <tr>\n",
       "      <th>438</th>\n",
       "      <td>Oppo F19 (Prism Black, 6GB RAM, 128GB Storage)...</td>\n",
       "      <td>₹18,990</td>\n",
       "      <td>4.1 out of 5 stars</td>\n",
       "      <td>https://www.amazon.com/gp/slredirect/picassoRe...</td>\n",
       "    </tr>\n",
       "    <tr>\n",
       "      <th>439</th>\n",
       "      <td>Tecno Spark 7 Pro (Alps Blue, 4GB RAM 64GB Sto...</td>\n",
       "      <td>₹10,999</td>\n",
       "      <td>4.0 out of 5 stars</td>\n",
       "      <td>https://www.amazon.com/gp/slredirect/picassoRe...</td>\n",
       "    </tr>\n",
       "  </tbody>\n",
       "</table>\n",
       "<p>440 rows × 4 columns</p>\n",
       "</div>"
      ],
      "text/plain": [
       "                                           Description    Price  \\\n",
       "0    Mi 11X Pro 5G (Lunar White, 8GB RAM, 128GB Sto...  ₹39,999   \n",
       "1    Samsung Galaxy M32 (Light Blue, 4GB RAM, 64GB ...  ₹14,999   \n",
       "2    Redmi 9A (Nature Green, 2GB RAM, 32GB Storage)...   ₹6,999   \n",
       "3    Redmi 9 (Sky Blue, 4GB RAM, 64GB Storage)| 500...   ₹8,999   \n",
       "4    Oppo A31 (Fantasy White, 6GB RAM, 128GB Storag...  ₹12,490   \n",
       "..                                                 ...      ...   \n",
       "435  (Renewed) Samsung Galaxy M12 (Black,4GB RAM, 6...  ₹10,499   \n",
       "436  (Renewed) Samsung Galaxy M12 (Blue,4GB RAM, 64...  ₹10,499   \n",
       "437  realme narzo 30 (Racing Blue, 4GB RAM, 64GB St...  ₹12,499   \n",
       "438  Oppo F19 (Prism Black, 6GB RAM, 128GB Storage)...  ₹18,990   \n",
       "439  Tecno Spark 7 Pro (Alps Blue, 4GB RAM 64GB Sto...  ₹10,999   \n",
       "\n",
       "                 Rating                                                Url  \n",
       "0    3.9 out of 5 stars  https://www.amazon.com/gp/slredirect/picassoRe...  \n",
       "1    4.2 out of 5 stars  https://www.amazon.com/gp/slredirect/picassoRe...  \n",
       "2    4.2 out of 5 stars  https://www.amazon.com/Redmi-9A-2GB-32GB-Stora...  \n",
       "3    4.2 out of 5 stars  https://www.amazon.com/Redmi-Sky-Blue-64GB-Sto...  \n",
       "4    4.2 out of 5 stars  https://www.amazon.com/Oppo-Fantasy-Storage-Ad...  \n",
       "..                  ...                                                ...  \n",
       "435  5.0 out of 5 stars  https://www.amazon.com/Renewed-Samsung-Galaxy-...  \n",
       "436  2.5 out of 5 stars  https://www.amazon.com/Renewed-Samsung-Galaxy-...  \n",
       "437  2.8 out of 5 stars  https://www.amazon.com/realme-Racing-Storage-A...  \n",
       "438  4.1 out of 5 stars  https://www.amazon.com/gp/slredirect/picassoRe...  \n",
       "439  4.0 out of 5 stars  https://www.amazon.com/gp/slredirect/picassoRe...  \n",
       "\n",
       "[440 rows x 4 columns]"
      ]
     },
     "execution_count": 52,
     "metadata": {},
     "output_type": "execute_result"
    }
   ],
   "source": [
    "pd.read_csv('smartphone.csv')"
   ]
  },
  {
   "cell_type": "code",
   "execution_count": null,
   "id": "e9e81066",
   "metadata": {},
   "outputs": [],
   "source": []
  },
  {
   "cell_type": "code",
   "execution_count": null,
   "id": "7cce2b61",
   "metadata": {},
   "outputs": [],
   "source": []
  }
 ],
 "metadata": {
  "kernelspec": {
   "display_name": "Python 3",
   "language": "python",
   "name": "python3"
  },
  "language_info": {
   "codemirror_mode": {
    "name": "ipython",
    "version": 3
   },
   "file_extension": ".py",
   "mimetype": "text/x-python",
   "name": "python",
   "nbconvert_exporter": "python",
   "pygments_lexer": "ipython3",
   "version": "3.7.8"
  }
 },
 "nbformat": 4,
 "nbformat_minor": 5
}
